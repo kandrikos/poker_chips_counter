{
 "cells": [
  {
   "cell_type": "code",
   "execution_count": 1,
   "metadata": {},
   "outputs": [],
   "source": [
    "from player import Player\n",
    "from hand import Hand"
   ]
  },
  {
   "cell_type": "code",
   "execution_count": 5,
   "metadata": {},
   "outputs": [
    {
     "data": {
      "text/plain": [
       "False"
      ]
     },
     "execution_count": 5,
     "metadata": {},
     "output_type": "execute_result"
    }
   ],
   "source": [
    "False or False"
   ]
  },
  {
   "cell_type": "code",
   "execution_count": 8,
   "metadata": {},
   "outputs": [
    {
     "name": "stdout",
     "output_type": "stream",
     "text": [
      "ok\n"
     ]
    }
   ],
   "source": [
    "while False or True:\n",
    "    print('ok')\n",
    "    break"
   ]
  },
  {
   "cell_type": "code",
   "execution_count": 32,
   "metadata": {},
   "outputs": [],
   "source": [
    "initial_stack = 1000\n",
    "players = [\n",
    "        Player(name=\"A\", stack=initial_stack),\n",
    "        Player(name=\"B\", stack=initial_stack),\n",
    "        Player(name=\"C\", stack=initial_stack),\n",
    "        Player(name=\"D\", stack=initial_stack),\n",
    "        Player(name=\"E\", stack=initial_stack),\n",
    "        Player(name=\"F\", stack=initial_stack)\n",
    "    ]"
   ]
  },
  {
   "cell_type": "code",
   "execution_count": 33,
   "metadata": {},
   "outputs": [],
   "source": [
    "seats = {\n",
    "    \"seat_0\": players[0],    \n",
    "    \"seat_1\": players[1],\n",
    "    \"seat_2\": players[2],\n",
    "    \"seat_3\": players[3],\n",
    "    \"seat_4\": players[4],    \n",
    "    \"seat_5\": players[5]\n",
    "}"
   ]
  },
  {
   "cell_type": "code",
   "execution_count": 5,
   "metadata": {},
   "outputs": [
    {
     "data": {
      "text/plain": [
       "dict_items([('seat_0', <player.Player object at 0x000001E7830F8580>), ('seat_1', <player.Player object at 0x000001E7830F87C0>), ('seat_2', <player.Player object at 0x000001E7830FAE90>), ('seat_3', <player.Player object at 0x000001E7830FAD10>), ('seat_4', <player.Player object at 0x000001E7830FAC20>), ('seat_5', <player.Player object at 0x000001E7830FAC80>)])"
      ]
     },
     "execution_count": 5,
     "metadata": {},
     "output_type": "execute_result"
    }
   ],
   "source": [
    "seats.items()"
   ]
  },
  {
   "cell_type": "code",
   "execution_count": 6,
   "metadata": {},
   "outputs": [
    {
     "data": {
      "text/plain": [
       "dict_values([<player.Player object at 0x000001E7830F8580>, <player.Player object at 0x000001E7830F87C0>, <player.Player object at 0x000001E7830FAE90>, <player.Player object at 0x000001E7830FAD10>, <player.Player object at 0x000001E7830FAC20>, <player.Player object at 0x000001E7830FAC80>])"
      ]
     },
     "execution_count": 6,
     "metadata": {},
     "output_type": "execute_result"
    }
   ],
   "source": [
    "seats.values()"
   ]
  },
  {
   "cell_type": "code",
   "execution_count": 7,
   "metadata": {},
   "outputs": [],
   "source": [
    "from random import randrange\n",
    "# randomly select first dealer of the game.\n",
    "first_btn_seat = randrange(len(players))\n"
   ]
  },
  {
   "cell_type": "code",
   "execution_count": 8,
   "metadata": {},
   "outputs": [
    {
     "name": "stdout",
     "output_type": "stream",
     "text": [
      "2\n",
      "0\n",
      "1\n",
      "7\n",
      "4\n",
      "6\n",
      "0\n",
      "9\n",
      "7\n",
      "1\n",
      "4\n",
      "2\n",
      "7\n",
      "8\n",
      "0\n",
      "2\n",
      "1\n",
      "5\n",
      "7\n",
      "1\n",
      "7\n",
      "8\n",
      "7\n",
      "6\n",
      "7\n",
      "2\n",
      "6\n",
      "9\n",
      "1\n",
      "9\n",
      "5\n",
      "1\n",
      "8\n",
      "1\n",
      "1\n",
      "1\n",
      "2\n",
      "3\n",
      "0\n",
      "7\n",
      "1\n",
      "5\n",
      "7\n",
      "6\n",
      "3\n",
      "5\n",
      "3\n",
      "3\n",
      "0\n",
      "7\n"
     ]
    }
   ],
   "source": [
    "for _ in range(50):\n",
    "    print(randrange(10))"
   ]
  },
  {
   "cell_type": "code",
   "execution_count": 9,
   "metadata": {},
   "outputs": [],
   "source": [
    "# randomly select first dealer of the game.\n",
    "first_btn_seat = randrange(len(players))\n"
   ]
  },
  {
   "cell_type": "code",
   "execution_count": 10,
   "metadata": {},
   "outputs": [
    {
     "data": {
      "text/plain": [
       "4"
      ]
     },
     "execution_count": 10,
     "metadata": {},
     "output_type": "execute_result"
    }
   ],
   "source": [
    "first_btn_seat"
   ]
  },
  {
   "cell_type": "code",
   "execution_count": 2,
   "metadata": {},
   "outputs": [
    {
     "data": {
      "text/plain": [
       "[1, 2, 3, 4]"
      ]
     },
     "execution_count": 2,
     "metadata": {},
     "output_type": "execute_result"
    }
   ],
   "source": [
    "num = [i for i in range(1, 5)]\n",
    "num"
   ]
  },
  {
   "cell_type": "code",
   "execution_count": 11,
   "metadata": {},
   "outputs": [
    {
     "data": {
      "text/plain": [
       "<player.Player at 0x1e7830fac20>"
      ]
     },
     "execution_count": 11,
     "metadata": {},
     "output_type": "execute_result"
    }
   ],
   "source": [
    "btn_player_1 = seats.get(f\"seat_{first_btn_seat}\")\n",
    "btn_player_1"
   ]
  },
  {
   "cell_type": "code",
   "execution_count": 12,
   "metadata": {},
   "outputs": [
    {
     "name": "stdout",
     "output_type": "stream",
     "text": [
      "first hand\n",
      "E\n"
     ]
    }
   ],
   "source": [
    "hand_1 = Hand(players, btn_player_1)\n",
    "print(\"first hand\\n\" + hand_1.btn_player.name)"
   ]
  },
  {
   "cell_type": "code",
   "execution_count": 31,
   "metadata": {},
   "outputs": [
    {
     "name": "stdout",
     "output_type": "stream",
     "text": [
      "F\n",
      "A\n"
     ]
    },
    {
     "ename": "AttributeError",
     "evalue": "'NoneType' object has no attribute 'name'",
     "output_type": "error",
     "traceback": [
      "\u001b[1;31m---------------------------------------------------------------------------\u001b[0m",
      "\u001b[1;31mAttributeError\u001b[0m                            Traceback (most recent call last)",
      "Cell \u001b[1;32mIn[31], line 5\u001b[0m\n\u001b[0;32m      3\u001b[0m btn_player \u001b[38;5;241m=\u001b[39m seats\u001b[38;5;241m.\u001b[39mget(btn_seat)\n\u001b[0;32m      4\u001b[0m hand \u001b[38;5;241m=\u001b[39m Hand(players, btn_player)\n\u001b[1;32m----> 5\u001b[0m \u001b[38;5;28mprint\u001b[39m(\u001b[43mhand\u001b[49m\u001b[38;5;241;43m.\u001b[39;49m\u001b[43mbtn_player\u001b[49m\u001b[38;5;241;43m.\u001b[39;49m\u001b[43mname\u001b[49m)\n",
      "\u001b[1;31mAttributeError\u001b[0m: 'NoneType' object has no attribute 'name'"
     ]
    }
   ],
   "source": [
    "\n",
    "for hand_num in range(10):\n",
    "    btn_seat = f\"seat_{(first_btn_seat + hand_num + 1) % len(players)}\"\n",
    "    btn_player = seats.get(btn_seat)\n",
    "    hand = Hand(players, btn_player)\n",
    "    print(hand.btn_player.name)"
   ]
  },
  {
   "cell_type": "code",
   "execution_count": 29,
   "metadata": {},
   "outputs": [],
   "source": [
    "seats = {\n",
    "    f\"seat_{i}\": players[i] if players[i].game_active else None\n",
    "    for i in range(6)\n",
    "}\n"
   ]
  },
  {
   "cell_type": "code",
   "execution_count": 34,
   "metadata": {},
   "outputs": [
    {
     "data": {
      "text/plain": [
       "{'seat_0': <player.Player at 0x1e7846b3820>,\n",
       " 'seat_1': <player.Player at 0x1e7830f8850>,\n",
       " 'seat_2': <player.Player at 0x1e7830f9ae0>,\n",
       " 'seat_3': <player.Player at 0x1e7830f9270>,\n",
       " 'seat_4': <player.Player at 0x1e7830f99c0>,\n",
       " 'seat_5': <player.Player at 0x1e7830fad70>}"
      ]
     },
     "execution_count": 34,
     "metadata": {},
     "output_type": "execute_result"
    }
   ],
   "source": [
    "seats"
   ]
  },
  {
   "cell_type": "code",
   "execution_count": 35,
   "metadata": {},
   "outputs": [
    {
     "data": {
      "text/plain": [
       "6"
      ]
     },
     "execution_count": 35,
     "metadata": {},
     "output_type": "execute_result"
    }
   ],
   "source": [
    "len(seats)"
   ]
  },
  {
   "cell_type": "code",
   "execution_count": 36,
   "metadata": {},
   "outputs": [
    {
     "data": {
      "text/plain": [
       "6"
      ]
     },
     "execution_count": 36,
     "metadata": {},
     "output_type": "execute_result"
    }
   ],
   "source": [
    "len([i for i in seats.keys() if seats[i] != None])"
   ]
  },
  {
   "cell_type": "code",
   "execution_count": 43,
   "metadata": {},
   "outputs": [],
   "source": [
    "seats['seat_3'].game_active = False\n",
    "seats['seat_1'].game_active = False"
   ]
  },
  {
   "cell_type": "code",
   "execution_count": 44,
   "metadata": {},
   "outputs": [],
   "source": [
    "for key in seats.keys():\n",
    "    if seats[key].game_active == False:\n",
    "        seats[key] = None\n",
    "\n"
   ]
  },
  {
   "cell_type": "code",
   "execution_count": 45,
   "metadata": {},
   "outputs": [
    {
     "data": {
      "text/plain": [
       "{'seat_0': <player.Player at 0x1e7846b3820>,\n",
       " 'seat_1': None,\n",
       " 'seat_2': <player.Player at 0x1e7830f9ae0>,\n",
       " 'seat_3': None,\n",
       " 'seat_4': <player.Player at 0x1e7830f99c0>,\n",
       " 'seat_5': <player.Player at 0x1e7830fad70>}"
      ]
     },
     "execution_count": 45,
     "metadata": {},
     "output_type": "execute_result"
    }
   ],
   "source": [
    "seats"
   ]
  },
  {
   "cell_type": "code",
   "execution_count": 46,
   "metadata": {},
   "outputs": [
    {
     "data": {
      "text/plain": [
       "4"
      ]
     },
     "execution_count": 46,
     "metadata": {},
     "output_type": "execute_result"
    }
   ],
   "source": [
    "len([i for i in seats.keys() if seats[i] != None])"
   ]
  },
  {
   "cell_type": "code",
   "execution_count": 57,
   "metadata": {},
   "outputs": [],
   "source": [
    "lst = [i for i in range(1, 6)]"
   ]
  },
  {
   "cell_type": "code",
   "execution_count": 59,
   "metadata": {},
   "outputs": [
    {
     "data": {
      "text/plain": [
       "1"
      ]
     },
     "execution_count": 59,
     "metadata": {},
     "output_type": "execute_result"
    }
   ],
   "source": [
    "lst.pop(0)"
   ]
  },
  {
   "cell_type": "code",
   "execution_count": 61,
   "metadata": {},
   "outputs": [
    {
     "data": {
      "text/plain": [
       "2"
      ]
     },
     "execution_count": 61,
     "metadata": {},
     "output_type": "execute_result"
    }
   ],
   "source": [
    "min(lst)"
   ]
  },
  {
   "cell_type": "code",
   "execution_count": 60,
   "metadata": {},
   "outputs": [
    {
     "data": {
      "text/plain": [
       "[2, 3, 4, 5]"
      ]
     },
     "execution_count": 60,
     "metadata": {},
     "output_type": "execute_result"
    }
   ],
   "source": [
    "lst"
   ]
  },
  {
   "cell_type": "code",
   "execution_count": 14,
   "metadata": {},
   "outputs": [],
   "source": [
    "class Dummy:\n",
    "    def __init__(self):\n",
    "        self.is_on = True\n",
    "    \n"
   ]
  },
  {
   "cell_type": "code",
   "execution_count": 15,
   "metadata": {},
   "outputs": [],
   "source": [
    "def all_values_equal(dic):\n",
    "    # Get values for all items where is_on is True\n",
    "    values = [value for key, value in dic.items() if key.is_on]\n",
    "    # Check if all these values are equal\n",
    "    return len(set(values)) == 1\n"
   ]
  },
  {
   "cell_type": "code",
   "execution_count": 27,
   "metadata": {},
   "outputs": [],
   "source": [
    "d1 = Dummy()\n",
    "d2 = Dummy()\n",
    "d3 = Dummy()\n",
    "d4 = Dummy()\n",
    "d4.is_on = False\n",
    "\n",
    "dic = {d1:20, d2:20, d3:20, d4:30}"
   ]
  },
  {
   "cell_type": "code",
   "execution_count": 28,
   "metadata": {},
   "outputs": [],
   "source": [
    "# Get values for all items where is_on is True\n",
    "values = [value for key, value in dic.items() if key.is_on]\n",
    "# Check if all these values are equal\n"
   ]
  },
  {
   "cell_type": "code",
   "execution_count": 29,
   "metadata": {},
   "outputs": [
    {
     "data": {
      "text/plain": [
       "[20, 20, 20]"
      ]
     },
     "execution_count": 29,
     "metadata": {},
     "output_type": "execute_result"
    }
   ],
   "source": [
    "values"
   ]
  },
  {
   "cell_type": "code",
   "execution_count": 30,
   "metadata": {},
   "outputs": [
    {
     "data": {
      "text/plain": [
       "True"
      ]
     },
     "execution_count": 30,
     "metadata": {},
     "output_type": "execute_result"
    }
   ],
   "source": [
    "len(set(values)) == 1"
   ]
  },
  {
   "cell_type": "code",
   "execution_count": 31,
   "metadata": {},
   "outputs": [
    {
     "data": {
      "text/plain": [
       "{20}"
      ]
     },
     "execution_count": 31,
     "metadata": {},
     "output_type": "execute_result"
    }
   ],
   "source": [
    "set(values)"
   ]
  },
  {
   "cell_type": "code",
   "execution_count": 10,
   "metadata": {},
   "outputs": [
    {
     "data": {
      "text/plain": [
       "{<__main__.Dummy at 0x253ae5368c0>: 20,\n",
       " <__main__.Dummy at 0x253ae612260>: 20,\n",
       " <__main__.Dummy at 0x253ae611de0>: 20,\n",
       " <__main__.Dummy at 0x253ae610430>: 30}"
      ]
     },
     "execution_count": 10,
     "metadata": {},
     "output_type": "execute_result"
    }
   ],
   "source": [
    "dic"
   ]
  },
  {
   "cell_type": "code",
   "execution_count": 11,
   "metadata": {},
   "outputs": [],
   "source": [
    "dic[d3] = 30"
   ]
  },
  {
   "cell_type": "code",
   "execution_count": 12,
   "metadata": {},
   "outputs": [
    {
     "data": {
      "text/plain": [
       "{<__main__.Dummy at 0x253ae5368c0>: 20,\n",
       " <__main__.Dummy at 0x253ae612260>: 20,\n",
       " <__main__.Dummy at 0x253ae611de0>: 30,\n",
       " <__main__.Dummy at 0x253ae610430>: 30}"
      ]
     },
     "execution_count": 12,
     "metadata": {},
     "output_type": "execute_result"
    }
   ],
   "source": [
    "dic"
   ]
  },
  {
   "cell_type": "code",
   "execution_count": null,
   "metadata": {},
   "outputs": [],
   "source": []
  }
 ],
 "metadata": {
  "kernelspec": {
   "display_name": "base",
   "language": "python",
   "name": "python3"
  },
  "language_info": {
   "codemirror_mode": {
    "name": "ipython",
    "version": 3
   },
   "file_extension": ".py",
   "mimetype": "text/x-python",
   "name": "python",
   "nbconvert_exporter": "python",
   "pygments_lexer": "ipython3",
   "version": "3.10.9"
  }
 },
 "nbformat": 4,
 "nbformat_minor": 2
}
